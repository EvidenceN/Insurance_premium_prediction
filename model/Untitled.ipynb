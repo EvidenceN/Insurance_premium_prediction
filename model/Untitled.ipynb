{
 "cells": [
  {
   "cell_type": "code",
   "execution_count": null,
   "metadata": {},
   "outputs": [],
   "source": [
    "# keeping x_train and x_test the same. \n",
    "\n",
    "x_train_ltv = x_train\n",
    "x_test_ltv = x_test\n",
    "\n",
    "# defining y_variables\n",
    "\n",
    "y_train_ltv = train_encoded['Customer Lifetime Value']\n",
    "y_test_ltv = test_encoded['Customer Lifetime Value']"
   ]
  },
  {
   "cell_type": "code",
   "execution_count": null,
   "metadata": {},
   "outputs": [],
   "source": [
    "# mean baseline = random guess. \n",
    "# If I were to guess what the lifetime value of the customer is, \n",
    "# this will be my guess. \n",
    "\n",
    "mean_ltv = y_train_ltv.mean()\n",
    "round(mean, 2)"
   ]
  },
  {
   "cell_type": "code",
   "execution_count": null,
   "metadata": {},
   "outputs": [],
   "source": [
    "mean_baseline_pred = mean_ltv * len(y_test)\n",
    "\n",
    "error_ltv = mean_ltf - y_train_ltv\n",
    "\n",
    "# mean absolute error of our mean baseline\n",
    "\n",
    "mean_ltv_absolute_error = error_ltv.abs().mean()\n",
    "print(f'By guessing, our customer lifetime value would be ${round(mean_ltv, 2)} \\nand we would be off by ${round(mean_ltv_absolute_error, 2)}')"
   ]
  },
  {
   "cell_type": "code",
   "execution_count": null,
   "metadata": {},
   "outputs": [],
   "source": [
    "mean_baseline_pred = mean_ltv * len(y_test)\n",
    "\n",
    "from sklearn.metrics import mean_squared_error, mean_absolute_error\n",
    "\n",
    "mae_ltv = mean_absolute_error(y_test_ltv, mean_baseline_pred)\n",
    "mse_ltv = mean_squared_error(y_test_ltv, mean_baseline_pred)\n",
    "print(f'Baseline mean absolute error {mae_ltv}')\n",
    "print(f\"Baseline mean squared error {mse_ltv}\")"
   ]
  },
  {
   "cell_type": "code",
   "execution_count": null,
   "metadata": {},
   "outputs": [],
   "source": [
    "from sklearn.linear_model import LinearRegression\n",
    "\n",
    "lr = LinearRegression()\n",
    "\n",
    "# fitting linear regression model\n",
    "\n",
    "lrModel = lr.fit(x_train, y_train)\n",
    "\n",
    "# predicting y_values using test dataset. \n",
    "\n",
    "y_pred = lrModel.predict(x_test)\n",
    "\n",
    "mae = mean_absolute_error(y_test, y_pred)\n",
    "mse = mean_squared_error(y_test, y_pred)\n",
    "print(f'Linear Regression mean absolute error {mae}')\n",
    "print(f\"Linear Regression mean squared error {mse}\")\n",
    "\n",
    "coeff = lrModel.coef_\n",
    "\n",
    "# plotting the coefficients from linear regression model.\n",
    "columns = x_train.columns\n",
    "\n",
    "# series between columns and coefficients\n",
    "\n",
    "lrGraph = pd.Series(coeff, columns)\n",
    "\n",
    "# Visualization for Linear Regression model.\n",
    "import matplotlib.pyplot as plt\n",
    "from matplotlib.pyplot import figure\n",
    "\n",
    "figure(figsize=(10,10))\n",
    "\n",
    "lrGraph.sort_values().plot.barh(color='red')\n",
    "\n",
    "plt.title('Visualization for Linear Regression Model Coefficients')"
   ]
  },
  {
   "cell_type": "code",
   "execution_count": null,
   "metadata": {},
   "outputs": [],
   "source": [
    "from sklearn.ensemble import RandomForestRegressor\n",
    "\n",
    "rf = RandomForestRegressor(random_state=42)\n",
    "\n",
    "# fitting random regression model\n",
    "\n",
    "rfModel = rf.fit(x_train, y_train)\n",
    "\n",
    "# predicting y_values using test dataset. \n",
    "\n",
    "y_pred_r = rfModel.predict(x_test)\n",
    "\n",
    "mae_r = mean_absolute_error(y_test, y_pred_r)\n",
    "mse_r = mean_squared_error(y_test, y_pred_r)\n",
    "print(f'Random Forest Regression mean absolute error {mae_r}')\n",
    "print(f\"Random Forest Regression mean squared error {mse_r}\")\n",
    "\n",
    "# feature importances from random forest model\n",
    "\n",
    "importances = rfModel.feature_importances_\n",
    "\n",
    "# interpreting random forest model. \n",
    "\n",
    "importances = rfModel.feature_importances_\n",
    "\n",
    "# columns used in random forest model.\n",
    "columns = x_train.columns\n",
    "\n",
    "# series between columns and feature importances\n",
    "\n",
    "rfGraph = pd.Series(importances, columns)\n",
    "\n",
    "# Visualization for Random Regression model.\n",
    "\n",
    "figure(figsize=(10,10))\n",
    "\n",
    "rfGraph.sort_values().plot.barh(color='red')\n",
    "\n",
    "plt.title('Visualization for Random Forest Regression Model Feature Importances')"
   ]
  },
  {
   "cell_type": "code",
   "execution_count": null,
   "metadata": {},
   "outputs": [],
   "source": [
    "shapley(x_train2, y_train, x_test2)"
   ]
  }
 ],
 "metadata": {
  "kernelspec": {
   "display_name": "Python 3.7.5 64-bit ('Insurance_premium_prediction': pipenv)",
   "language": "python",
   "name": "python37564bitinsurancepremiumpredictionpipenvdef57962cde240509e8676cce08bbeed"
  },
  "language_info": {
   "codemirror_mode": {
    "name": "ipython",
    "version": 3
   },
   "file_extension": ".py",
   "mimetype": "text/x-python",
   "name": "python",
   "nbconvert_exporter": "python",
   "pygments_lexer": "ipython3",
   "version": "3.7.5rc1"
  }
 },
 "nbformat": 4,
 "nbformat_minor": 4
}
