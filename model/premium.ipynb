{
 "nbformat": 4,
 "nbformat_minor": 2,
 "metadata": {
  "language_info": {
   "name": "python",
   "codemirror_mode": {
    "name": "ipython",
    "version": 3
   },
   "version": "3.7.6-final"
  },
  "orig_nbformat": 2,
  "file_extension": ".py",
  "mimetype": "text/x-python",
  "name": "python",
  "npconvert_exporter": "python",
  "pygments_lexer": "ipython3",
  "version": 3,
  "kernelspec": {
   "name": "python37364bitbaseconda35499163fef041b3b02cfbaf64b49173",
   "display_name": "Python 3.7.3 64-bit ('base': conda)"
  }
 },
 "cells": [
  {
   "cell_type": "markdown",
   "metadata": {},
   "source": [
    "* Explore the dataset - EDA\n",
    "* Wrangle dataset - Cleaning dataset\n",
    "* Build a regression model to predict insurance price\n",
    "* Model interpretation\n",
    "* Create amazon visualization using plotly, seaborn, tableau\n",
    "* Deploy project using flask and/or plotly using Heroku"
   ]
  },
  {
   "cell_type": "code",
   "execution_count": 1,
   "metadata": {},
   "outputs": [],
   "source": [
    "import pandas as pd"
   ]
  },
  {
   "cell_type": "code",
   "execution_count": 2,
   "metadata": {},
   "outputs": [],
   "source": [
    "insurance = pd.read_csv(\"https://raw.githubusercontent.com/EvidenceN/Insurance_premium_prediction/master/data/auto_insurance_data.csv\")"
   ]
  },
  {
   "cell_type": "code",
   "execution_count": 3,
   "metadata": {},
   "outputs": [
    {
     "data": {
      "text/html": "<div>\n<style scoped>\n    .dataframe tbody tr th:only-of-type {\n        vertical-align: middle;\n    }\n\n    .dataframe tbody tr th {\n        vertical-align: top;\n    }\n\n    .dataframe thead th {\n        text-align: right;\n    }\n</style>\n<table border=\"1\" class=\"dataframe\">\n  <thead>\n    <tr style=\"text-align: right;\">\n      <th></th>\n      <th>Customer</th>\n      <th>State</th>\n      <th>Customer Lifetime Value</th>\n      <th>Response</th>\n      <th>Coverage</th>\n      <th>Education</th>\n      <th>Effective To Date</th>\n      <th>EmploymentStatus</th>\n      <th>Gender</th>\n      <th>Income</th>\n      <th>...</th>\n      <th>Months Since Policy Inception</th>\n      <th>Number of Open Complaints</th>\n      <th>Number of Policies</th>\n      <th>Policy Type</th>\n      <th>Policy</th>\n      <th>Renew Offer Type</th>\n      <th>Sales Channel</th>\n      <th>Total Claim Amount</th>\n      <th>Vehicle Class</th>\n      <th>Vehicle Size</th>\n    </tr>\n  </thead>\n  <tbody>\n    <tr>\n      <th>0</th>\n      <td>BU79786</td>\n      <td>Washington</td>\n      <td>2763.519279</td>\n      <td>No</td>\n      <td>Basic</td>\n      <td>Bachelor</td>\n      <td>2/24/11</td>\n      <td>Employed</td>\n      <td>F</td>\n      <td>56274</td>\n      <td>...</td>\n      <td>5</td>\n      <td>0</td>\n      <td>1</td>\n      <td>Corporate Auto</td>\n      <td>Corporate L3</td>\n      <td>Offer1</td>\n      <td>Agent</td>\n      <td>384.811147</td>\n      <td>Two-Door Car</td>\n      <td>Medsize</td>\n    </tr>\n    <tr>\n      <th>1</th>\n      <td>QZ44356</td>\n      <td>Arizona</td>\n      <td>6979.535903</td>\n      <td>No</td>\n      <td>Extended</td>\n      <td>Bachelor</td>\n      <td>1/31/11</td>\n      <td>Unemployed</td>\n      <td>F</td>\n      <td>0</td>\n      <td>...</td>\n      <td>42</td>\n      <td>0</td>\n      <td>8</td>\n      <td>Personal Auto</td>\n      <td>Personal L3</td>\n      <td>Offer3</td>\n      <td>Agent</td>\n      <td>1131.464935</td>\n      <td>Four-Door Car</td>\n      <td>Medsize</td>\n    </tr>\n    <tr>\n      <th>2</th>\n      <td>AI49188</td>\n      <td>Nevada</td>\n      <td>12887.431650</td>\n      <td>No</td>\n      <td>Premium</td>\n      <td>Bachelor</td>\n      <td>2/19/11</td>\n      <td>Employed</td>\n      <td>F</td>\n      <td>48767</td>\n      <td>...</td>\n      <td>38</td>\n      <td>0</td>\n      <td>2</td>\n      <td>Personal Auto</td>\n      <td>Personal L3</td>\n      <td>Offer1</td>\n      <td>Agent</td>\n      <td>566.472247</td>\n      <td>Two-Door Car</td>\n      <td>Medsize</td>\n    </tr>\n    <tr>\n      <th>3</th>\n      <td>WW63253</td>\n      <td>California</td>\n      <td>7645.861827</td>\n      <td>No</td>\n      <td>Basic</td>\n      <td>Bachelor</td>\n      <td>1/20/11</td>\n      <td>Unemployed</td>\n      <td>M</td>\n      <td>0</td>\n      <td>...</td>\n      <td>65</td>\n      <td>0</td>\n      <td>7</td>\n      <td>Corporate Auto</td>\n      <td>Corporate L2</td>\n      <td>Offer1</td>\n      <td>Call Center</td>\n      <td>529.881344</td>\n      <td>SUV</td>\n      <td>Medsize</td>\n    </tr>\n    <tr>\n      <th>4</th>\n      <td>HB64268</td>\n      <td>Washington</td>\n      <td>2813.692575</td>\n      <td>No</td>\n      <td>Basic</td>\n      <td>Bachelor</td>\n      <td>2/3/11</td>\n      <td>Employed</td>\n      <td>M</td>\n      <td>43836</td>\n      <td>...</td>\n      <td>44</td>\n      <td>0</td>\n      <td>1</td>\n      <td>Personal Auto</td>\n      <td>Personal L1</td>\n      <td>Offer1</td>\n      <td>Agent</td>\n      <td>138.130879</td>\n      <td>Four-Door Car</td>\n      <td>Medsize</td>\n    </tr>\n  </tbody>\n</table>\n<p>5 rows × 24 columns</p>\n</div>",
      "text/plain": "  Customer       State  Customer Lifetime Value Response  Coverage Education  \\\n0  BU79786  Washington              2763.519279       No     Basic  Bachelor   \n1  QZ44356     Arizona              6979.535903       No  Extended  Bachelor   \n2  AI49188      Nevada             12887.431650       No   Premium  Bachelor   \n3  WW63253  California              7645.861827       No     Basic  Bachelor   \n4  HB64268  Washington              2813.692575       No     Basic  Bachelor   \n\n  Effective To Date EmploymentStatus Gender  Income  ...  \\\n0           2/24/11         Employed      F   56274  ...   \n1           1/31/11       Unemployed      F       0  ...   \n2           2/19/11         Employed      F   48767  ...   \n3           1/20/11       Unemployed      M       0  ...   \n4            2/3/11         Employed      M   43836  ...   \n\n  Months Since Policy Inception Number of Open Complaints  Number of Policies  \\\n0                             5                         0                   1   \n1                            42                         0                   8   \n2                            38                         0                   2   \n3                            65                         0                   7   \n4                            44                         0                   1   \n\n      Policy Type        Policy  Renew Offer Type  Sales Channel  \\\n0  Corporate Auto  Corporate L3            Offer1          Agent   \n1   Personal Auto   Personal L3            Offer3          Agent   \n2   Personal Auto   Personal L3            Offer1          Agent   \n3  Corporate Auto  Corporate L2            Offer1    Call Center   \n4   Personal Auto   Personal L1            Offer1          Agent   \n\n  Total Claim Amount  Vehicle Class Vehicle Size  \n0         384.811147   Two-Door Car      Medsize  \n1        1131.464935  Four-Door Car      Medsize  \n2         566.472247   Two-Door Car      Medsize  \n3         529.881344            SUV      Medsize  \n4         138.130879  Four-Door Car      Medsize  \n\n[5 rows x 24 columns]"
     },
     "execution_count": 3,
     "metadata": {},
     "output_type": "execute_result"
    }
   ],
   "source": [
    "insurance.head()"
   ]
  },
  {
   "cell_type": "code",
   "execution_count": 4,
   "metadata": {},
   "outputs": [
    {
     "data": {
      "text/plain": "(9134, 24)"
     },
     "execution_count": 4,
     "metadata": {},
     "output_type": "execute_result"
    }
   ],
   "source": [
    "insurance.shape"
   ]
  },
  {
   "cell_type": "code",
   "execution_count": 5,
   "metadata": {},
   "outputs": [],
   "source": [
    "from pandas_profiling import ProfileReport"
   ]
  },
  {
   "cell_type": "code",
   "execution_count": 6,
   "metadata": {},
   "outputs": [
    {
     "ename": "ModuleNotFoundError",
     "evalue": "No module named 'numba'",
     "output_type": "error",
     "traceback": [
      "\u001b[1;31m---------------------------------------------------------------------------\u001b[0m",
      "\u001b[1;31mModuleNotFoundError\u001b[0m                       Traceback (most recent call last)",
      "\u001b[1;32m<ipython-input-6-ae7c3141718f>\u001b[0m in \u001b[0;36m<module>\u001b[1;34m\u001b[0m\n\u001b[1;32m----> 1\u001b[1;33m \u001b[0mprofile\u001b[0m \u001b[1;33m=\u001b[0m \u001b[0mProfileReport\u001b[0m\u001b[1;33m(\u001b[0m\u001b[0minsurance\u001b[0m\u001b[1;33m)\u001b[0m\u001b[1;33m\u001b[0m\u001b[1;33m\u001b[0m\u001b[0m\n\u001b[0m",
      "\u001b[1;32m~\\Anaconda3\\lib\\site-packages\\pandas_profiling\\__init__.py\u001b[0m in \u001b[0;36m__init__\u001b[1;34m(self, df, **kwargs)\u001b[0m\n\u001b[0;32m     66\u001b[0m \u001b[1;33m\u001b[0m\u001b[0m\n\u001b[0;32m     67\u001b[0m         \u001b[1;31m# Get dataset statistics\u001b[0m\u001b[1;33m\u001b[0m\u001b[1;33m\u001b[0m\u001b[1;33m\u001b[0m\u001b[0m\n\u001b[1;32m---> 68\u001b[1;33m         \u001b[0mdescription_set\u001b[0m \u001b[1;33m=\u001b[0m \u001b[0mdescribe_df\u001b[0m\u001b[1;33m(\u001b[0m\u001b[0mdf\u001b[0m\u001b[1;33m)\u001b[0m\u001b[1;33m\u001b[0m\u001b[1;33m\u001b[0m\u001b[0m\n\u001b[0m\u001b[0;32m     69\u001b[0m \u001b[1;33m\u001b[0m\u001b[0m\n\u001b[0;32m     70\u001b[0m         \u001b[1;31m# Get sample\u001b[0m\u001b[1;33m\u001b[0m\u001b[1;33m\u001b[0m\u001b[1;33m\u001b[0m\u001b[0m\n",
      "\u001b[1;32m~\\Anaconda3\\lib\\site-packages\\pandas_profiling\\model\\describe.py\u001b[0m in \u001b[0;36mdescribe\u001b[1;34m(df)\u001b[0m\n\u001b[0;32m    549\u001b[0m \u001b[1;33m\u001b[0m\u001b[0m\n\u001b[0;32m    550\u001b[0m     \u001b[1;31m# Get correlations\u001b[0m\u001b[1;33m\u001b[0m\u001b[1;33m\u001b[0m\u001b[1;33m\u001b[0m\u001b[0m\n\u001b[1;32m--> 551\u001b[1;33m     \u001b[0mcorrelations\u001b[0m \u001b[1;33m=\u001b[0m \u001b[0mcalculate_correlations\u001b[0m\u001b[1;33m(\u001b[0m\u001b[0mdf\u001b[0m\u001b[1;33m,\u001b[0m \u001b[0mvariables\u001b[0m\u001b[1;33m)\u001b[0m\u001b[1;33m\u001b[0m\u001b[1;33m\u001b[0m\u001b[0m\n\u001b[0m\u001b[0;32m    552\u001b[0m \u001b[1;33m\u001b[0m\u001b[0m\n\u001b[0;32m    553\u001b[0m     \u001b[1;31m# Check correlations between numerical variables\u001b[0m\u001b[1;33m\u001b[0m\u001b[1;33m\u001b[0m\u001b[1;33m\u001b[0m\u001b[0m\n",
      "\u001b[1;32m~\\Anaconda3\\lib\\site-packages\\pandas_profiling\\model\\correlations.py\u001b[0m in \u001b[0;36mcalculate_correlations\u001b[1;34m(df, variables)\u001b[0m\n\u001b[0;32m    149\u001b[0m \u001b[1;33m\u001b[0m\u001b[0m\n\u001b[0;32m    150\u001b[0m     \u001b[1;32mif\u001b[0m \u001b[0mconfig\u001b[0m\u001b[1;33m[\u001b[0m\u001b[1;34m\"correlations\"\u001b[0m\u001b[1;33m]\u001b[0m\u001b[1;33m[\u001b[0m\u001b[1;34m\"phi_k\"\u001b[0m\u001b[1;33m]\u001b[0m\u001b[1;33m.\u001b[0m\u001b[0mget\u001b[0m\u001b[1;33m(\u001b[0m\u001b[0mbool\u001b[0m\u001b[1;33m)\u001b[0m\u001b[1;33m:\u001b[0m\u001b[1;33m\u001b[0m\u001b[1;33m\u001b[0m\u001b[0m\n\u001b[1;32m--> 151\u001b[1;33m         \u001b[1;32mimport\u001b[0m \u001b[0mphik\u001b[0m\u001b[1;33m\u001b[0m\u001b[1;33m\u001b[0m\u001b[0m\n\u001b[0m\u001b[0;32m    152\u001b[0m \u001b[1;33m\u001b[0m\u001b[0m\n\u001b[0;32m    153\u001b[0m         \u001b[1;32mwith\u001b[0m \u001b[0mwarnings\u001b[0m\u001b[1;33m.\u001b[0m\u001b[0mcatch_warnings\u001b[0m\u001b[1;33m(\u001b[0m\u001b[1;33m)\u001b[0m\u001b[1;33m:\u001b[0m\u001b[1;33m\u001b[0m\u001b[1;33m\u001b[0m\u001b[0m\n",
      "\u001b[1;32m~\\Anaconda3\\lib\\site-packages\\phik\\__init__.py\u001b[0m in \u001b[0;36m<module>\u001b[1;34m\u001b[0m\n\u001b[0;32m      3\u001b[0m \u001b[1;33m\u001b[0m\u001b[0m\n\u001b[0;32m      4\u001b[0m \u001b[1;31m# pandas dataframe decorators\u001b[0m\u001b[1;33m\u001b[0m\u001b[1;33m\u001b[0m\u001b[1;33m\u001b[0m\u001b[0m\n\u001b[1;32m----> 5\u001b[1;33m \u001b[1;32mfrom\u001b[0m \u001b[0mphik\u001b[0m \u001b[1;32mimport\u001b[0m \u001b[0mdecorators\u001b[0m\u001b[1;33m\u001b[0m\u001b[1;33m\u001b[0m\u001b[0m\n\u001b[0m\u001b[0;32m      6\u001b[0m \u001b[1;33m\u001b[0m\u001b[0m\n\u001b[0;32m      7\u001b[0m \u001b[1;31m# array functions\u001b[0m\u001b[1;33m\u001b[0m\u001b[1;33m\u001b[0m\u001b[1;33m\u001b[0m\u001b[0m\n",
      "\u001b[1;32m~\\Anaconda3\\lib\\site-packages\\phik\\decorators\\__init__.py\u001b[0m in \u001b[0;36m<module>\u001b[1;34m\u001b[0m\n\u001b[0;32m      2\u001b[0m \u001b[1;33m\u001b[0m\u001b[0m\n\u001b[0;32m      3\u001b[0m \u001b[1;31m# import pandas DataFrame decorators\u001b[0m\u001b[1;33m\u001b[0m\u001b[1;33m\u001b[0m\u001b[1;33m\u001b[0m\u001b[0m\n\u001b[1;32m----> 4\u001b[1;33m \u001b[1;32mfrom\u001b[0m \u001b[0mphik\u001b[0m\u001b[1;33m.\u001b[0m\u001b[0mdecorators\u001b[0m \u001b[1;32mimport\u001b[0m \u001b[0mpandas\u001b[0m\u001b[1;33m\u001b[0m\u001b[1;33m\u001b[0m\u001b[0m\n\u001b[0m",
      "\u001b[1;32m~\\Anaconda3\\lib\\site-packages\\phik\\decorators\\pandas.py\u001b[0m in \u001b[0;36m<module>\u001b[1;34m\u001b[0m\n\u001b[0;32m     28\u001b[0m \u001b[1;33m\u001b[0m\u001b[0m\n\u001b[0;32m     29\u001b[0m \u001b[1;31m# add significance matrix function for variable dependencies\u001b[0m\u001b[1;33m\u001b[0m\u001b[1;33m\u001b[0m\u001b[1;33m\u001b[0m\u001b[0m\n\u001b[1;32m---> 30\u001b[1;33m \u001b[1;32mfrom\u001b[0m \u001b[0mphik\u001b[0m\u001b[1;33m.\u001b[0m\u001b[0msignificance\u001b[0m \u001b[1;32mimport\u001b[0m \u001b[0msignificance_matrix\u001b[0m\u001b[1;33m\u001b[0m\u001b[1;33m\u001b[0m\u001b[0m\n\u001b[0m\u001b[0;32m     31\u001b[0m \u001b[0mDataFrame\u001b[0m\u001b[1;33m.\u001b[0m\u001b[0msignificance_matrix\u001b[0m \u001b[1;33m=\u001b[0m \u001b[0msignificance_matrix\u001b[0m\u001b[1;33m\u001b[0m\u001b[1;33m\u001b[0m\u001b[0m\n\u001b[0;32m     32\u001b[0m \u001b[1;33m\u001b[0m\u001b[0m\n",
      "\u001b[1;32m~\\Anaconda3\\lib\\site-packages\\phik\\significance.py\u001b[0m in \u001b[0;36m<module>\u001b[1;34m\u001b[0m\n\u001b[0;32m     29\u001b[0m \u001b[1;32mfrom\u001b[0m \u001b[1;33m.\u001b[0m\u001b[0mstatistics\u001b[0m \u001b[1;32mimport\u001b[0m \u001b[0mget_chi2_using_dependent_frequency_estimates\u001b[0m\u001b[1;33m\u001b[0m\u001b[1;33m\u001b[0m\u001b[0m\n\u001b[0;32m     30\u001b[0m \u001b[1;32mfrom\u001b[0m \u001b[1;33m.\u001b[0m\u001b[0mstatistics\u001b[0m \u001b[1;32mimport\u001b[0m \u001b[0mestimate_ndof\u001b[0m\u001b[1;33m,\u001b[0m \u001b[0mestimate_simple_ndof\u001b[0m\u001b[1;33m,\u001b[0m \u001b[0mtheoretical_ndof\u001b[0m\u001b[1;33m\u001b[0m\u001b[1;33m\u001b[0m\u001b[0m\n\u001b[1;32m---> 31\u001b[1;33m \u001b[1;32mfrom\u001b[0m \u001b[1;33m.\u001b[0m\u001b[0msimulation\u001b[0m \u001b[1;32mimport\u001b[0m \u001b[0msim_chi2_distribution\u001b[0m\u001b[1;33m\u001b[0m\u001b[1;33m\u001b[0m\u001b[0m\n\u001b[0m\u001b[0;32m     32\u001b[0m \u001b[1;32mfrom\u001b[0m \u001b[1;33m.\u001b[0m\u001b[0mdata_quality\u001b[0m \u001b[1;32mimport\u001b[0m \u001b[0mdq_check_nunique_values\u001b[0m\u001b[1;33m,\u001b[0m \u001b[0mdq_check_hist2d\u001b[0m\u001b[1;33m\u001b[0m\u001b[1;33m\u001b[0m\u001b[0m\n\u001b[0;32m     33\u001b[0m \u001b[1;33m\u001b[0m\u001b[0m\n",
      "\u001b[1;32m~\\Anaconda3\\lib\\site-packages\\phik\\simulation.py\u001b[0m in \u001b[0;36m<module>\u001b[1;34m\u001b[0m\n\u001b[0;32m     17\u001b[0m \u001b[1;32mimport\u001b[0m \u001b[0mnumpy\u001b[0m \u001b[1;32mas\u001b[0m \u001b[0mnp\u001b[0m\u001b[1;33m\u001b[0m\u001b[1;33m\u001b[0m\u001b[0m\n\u001b[0;32m     18\u001b[0m \u001b[1;32mimport\u001b[0m \u001b[0mpandas\u001b[0m \u001b[1;32mas\u001b[0m \u001b[0mpd\u001b[0m\u001b[1;33m\u001b[0m\u001b[1;33m\u001b[0m\u001b[0m\n\u001b[1;32m---> 19\u001b[1;33m \u001b[1;32mfrom\u001b[0m \u001b[0mnumba\u001b[0m \u001b[1;32mimport\u001b[0m \u001b[0mjit\u001b[0m\u001b[1;33m\u001b[0m\u001b[1;33m\u001b[0m\u001b[0m\n\u001b[0m\u001b[0;32m     20\u001b[0m \u001b[1;33m\u001b[0m\u001b[0m\n\u001b[0;32m     21\u001b[0m \u001b[1;32mfrom\u001b[0m \u001b[1;33m.\u001b[0m\u001b[0mstatistics\u001b[0m \u001b[1;32mimport\u001b[0m \u001b[0mget_dependent_frequency_estimates\u001b[0m\u001b[1;33m\u001b[0m\u001b[1;33m\u001b[0m\u001b[0m\n",
      "\u001b[1;31mModuleNotFoundError\u001b[0m: No module named 'numba'"
     ]
    }
   ],
   "source": [
    "profile = ProfileReport(insurance)"
   ]
  },
  {
   "cell_type": "code",
   "execution_count": null,
   "metadata": {},
   "outputs": [],
   "source": []
  }
 ]
}